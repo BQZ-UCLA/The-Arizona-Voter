{
 "cells": [
  {
   "cell_type": "code",
   "execution_count": 1,
   "metadata": {},
   "outputs": [
    {
     "name": "stderr",
     "output_type": "stream",
     "text": [
      "Downloading: 100%|██████████| 3655304/3655304 [01:38<00:00, 37169.22rows/s]\n"
     ]
    }
   ],
   "source": [
    "#import tensorflow as tf\n",
    "import os\n",
    "import pandas as pd\n",
    "from datetime import datetime\n",
    "os.environ['GOOGLE_APPLICATION_CREDENTIALS'] = \"/Users/Chris/Dropbox/Keys/az-voter-file-30395362c45b.json\"\n",
    "import pandas_gbq\n",
    "from google.cloud import bigquery\n",
    "from sklearn.preprocessing import MinMaxScaler\n",
    "import pandas_gbq\n",
    "import numpy as np\n",
    "\n",
    "query = \"\"\"\n",
    "    SELECT \n",
    "    *,\n",
    "FROM `az-voter-file.public_data.distributions`\n",
    "\"\"\"\n",
    "\n",
    "df = pandas_gbq.read_gbq(query, project_id=\"az-voter-file\")"
   ]
  },
  {
   "cell_type": "code",
   "execution_count": 17,
   "metadata": {},
   "outputs": [],
   "source": [
    "df = df.sample(frac=0.25, replace=True, random_state=1)\n",
    "df.shape\n",
    "df.to_csv(\"distributions.csv\")\n"
   ]
  }
 ],
 "metadata": {
  "kernelspec": {
   "display_name": "Python 3.10.5 ('tensorflow': venv)",
   "language": "python",
   "name": "python3"
  },
  "language_info": {
   "codemirror_mode": {
    "name": "ipython",
    "version": 3
   },
   "file_extension": ".py",
   "mimetype": "text/x-python",
   "name": "python",
   "nbconvert_exporter": "python",
   "pygments_lexer": "ipython3",
   "version": "3.10.5"
  },
  "orig_nbformat": 4,
  "vscode": {
   "interpreter": {
    "hash": "837da91509cbd5b9bb69bb922d3658836683c892f657df3b153a009ccfc4f585"
   }
  }
 },
 "nbformat": 4,
 "nbformat_minor": 2
}
