{
 "cells": [
  {
   "cell_type": "markdown",
   "metadata": {},
   "source": [
    "# A Machine Learning Model\n",
    "## Applied to Voting Behavior in Arizona\n",
    "### Keras Neural Network \n",
    "\n",
    "\n",
    "Below I just load a bunch of dependencies. I follow this with a GBQ query to get the data. I then do some data cleaning. Finally, I split the data into train and test sets.    \n",
    "\n",
    "A political engagement indicator was created, scored 1 if the voter participated in the 2020 primary, as well as the 2018 primary and general elections. \n"
   ]
  },
  {
   "cell_type": "code",
   "execution_count": 2,
   "metadata": {},
   "outputs": [],
   "source": [
    "import tensorflow as tf\n",
    "import os\n",
    "import pandas as pd\n",
    "from datetime import datetime\n",
    "os.environ['GOOGLE_APPLICATION_CREDENTIALS'] = \"/Users/Chris/Dropbox/Keys/az-voter-file-30395362c45b.json\"\n",
    "from google.cloud import bigquery\n",
    "from sklearn.preprocessing import MinMaxScaler\n",
    "import pandas_gbq\n",
    "bqclient = bigquery.Client()\n",
    "project_id = \"az-voter-file\"\n",
    "import numpy as np\n",
    "from tensorflow import keras\n",
    "from tensorflow.keras import layers\n",
    "from sklearn.model_selection import train_test_split"
   ]
  },
  {
   "cell_type": "markdown",
   "metadata": {},
   "source": [
    "I query the BQ below."
   ]
  },
  {
   "cell_type": "code",
   "execution_count": null,
   "metadata": {},
   "outputs": [],
   "source": [
    "### Formulate the SQL query to pull the data from BigQuery\n",
    "\n",
    "\n",
    "query = \"\"\"\n",
    "    SELECT \n",
    "    geo_id,\n",
    "    registrant_id,\n",
    "    general_2020,\n",
    "    primary_2020,\n",
    "    general_2018,\n",
    "    primary_2018,\n",
    "    general_2016,\n",
    "    primary_2016,\n",
    "    general_2014,\n",
    "    bachelors_degree_2,\n",
    "    poverty,\n",
    "    total_pop,\n",
    "    birth_year,\n",
    "    registration_date,\n",
    "    registration_change,\n",
    "    median_age,\n",
    "    median_income,\n",
    "    white_pop,\n",
    "    black_pop,\n",
    "    asian_pop,\n",
    "    hispanic_pop,\n",
    "    amerindian_pop,\n",
    "    gini_index,\n",
    "    housing_units,\n",
    "    children,\n",
    "    employed_pop,\n",
    "    armed_forces,\n",
    "    pop_in_labor_force,\n",
    "    in_undergrad_college,\n",
    "    speak_only_english_at_home,\n",
    "    less_than_high_school_graduate,\n",
    "    P1_001N as total_district,\n",
    "    P1_003N as white_district,\n",
    "    P1_004N as black_district,\n",
    "    P1_005N as indian_district,\n",
    "    P1_006N as asian_district,\n",
    "    P4_001N as total_ethnicity,\n",
    "    P4_002N as latino,\n",
    "FROM `az-voter-file.az_file.clean_data_machine_learning`\n",
    "\"\"\"\n",
    "\n",
    "df = pandas_gbq.read_gbq(query, project_id=project_id)\n",
    "df.to_pickle('voter_file00_00_02.pkl') ## For later load, not to sync."
   ]
  },
  {
   "cell_type": "markdown",
   "metadata": {},
   "source": [
    "This is pretty rudimentary, and likely overkill, but we can compare it to far simpler measures as well. I created a variable, called \"engaged, that is 1 if the voter participated in the 2020 primary, as well as the 2018 primary and general elections. I then split the data in half, into a test set and a train set. I then train a model on the train set, and test it on the test set. The model I use is a \"neural network\" with an input layer, 4 hidden layers, and an output layer. I tested this, specifying different parameterizations and hidden layers. It really doesn't matter. I hit about 85% accuracy, which is marginal, but far better than chance for these data. The features I use to train the model are, primary and general election voting prior to 2018, as well as the following characteristics measured at the  characteristics:\n",
    "_________\n",
    "### Voter Level Information\n",
    "______\n",
    "* 'general_2016', \n",
    "* 'bachelors_degree_2',\n",
    "* 'primary_2016', \n",
    "* 'general_2014', \n",
    "* 'registration_change',\n",
    "* 'registration_date',\n",
    "* 'age'\n",
    "_________\n",
    "### Tract level Information\n",
    "_________\n",
    "* 'poverty',\n",
    "* 'age', \n",
    "* 'median_age', \n",
    "* 'median_income',\n",
    "* 'white_pop', \n",
    "* 'black_pop', \n",
    "* 'asian_pop', \n",
    "* 'hispanic_pop', \n",
    "* 'amerindian_pop', \n",
    "* 'gini_index', \n",
    "* 'housing_units', \n",
    "* 'employed_pop' \n",
    "\n",
    "All variables were 0-1 standardized prior to analysis.\n",
    "\n"
   ]
  },
  {
   "cell_type": "code",
   "execution_count": 26,
   "metadata": {},
   "outputs": [
    {
     "name": "stdout",
     "output_type": "stream",
     "text": [
      "    8/73107 [..............................] - ETA: 9:59 - loss: 0.6992 - accuracy: 0.4180   "
     ]
    },
    {
     "name": "stderr",
     "output_type": "stream",
     "text": [
      "2022-09-04 11:48:08.770440: I tensorflow/core/grappler/optimizers/custom_graph_optimizer_registry.cc:113] Plugin optimizer for device_type GPU is enabled.\n"
     ]
    },
    {
     "name": "stdout",
     "output_type": "stream",
     "text": [
      "73107/73107 [==============================] - ETA: 0s - loss: 0.3749 - accuracy: 0.8441"
     ]
    },
    {
     "name": "stderr",
     "output_type": "stream",
     "text": [
      "2022-09-04 11:57:48.118989: I tensorflow/core/grappler/optimizers/custom_graph_optimizer_registry.cc:113] Plugin optimizer for device_type GPU is enabled.\n"
     ]
    },
    {
     "name": "stdout",
     "output_type": "stream",
     "text": [
      "73107/73107 [==============================] - 681s 9ms/step - loss: 0.3749 - accuracy: 0.8441 - val_loss: 0.3671 - val_accuracy: 0.8479\n"
     ]
    },
    {
     "data": {
      "text/plain": [
       "<keras.callbacks.History at 0x474594fa0>"
      ]
     },
     "execution_count": 26,
     "metadata": {},
     "output_type": "execute_result"
    }
   ],
   "source": [
    "df = pd.read_pickle('voter_file00_00_02.pkl')\n",
    "\n",
    "reg_length =  (pd.to_datetime(\"11-04-2020\", format = \"%m-%d-%Y\") - pd.to_datetime(df['registration_date'], \n",
    "                              format = \"%Y-%m-%d\", \n",
    "                              errors = 'coerce'))\n",
    "df[\"registration_length\"] = reg_length.dt.days \n",
    "\n",
    "reg_change=  (pd.to_datetime(\"11-04-2020\", format = \"%m-%d-%Y\") - pd.to_datetime(df['registration_change'], \n",
    "                                format = \"%Y-%m-%d\", errors = 'coerce'))\n",
    "df[\"registration_change\"] = reg_change.dt.days \n",
    "df[\"age\"] = 2020 -  df['birth_year']\n",
    "\n",
    "\n",
    "st_dat = df[['general_2020', 'primary_2020', 'general_2018', \n",
    "    'primary_2018', 'general_2016', \"bachelors_degree_2\",\n",
    "    'primary_2016', 'general_2014', \"poverty\",\n",
    "    'age', 'registration_length', \n",
    "    'registration_change',\n",
    "    'median_age', 'median_income',\n",
    "    'white_pop', 'black_pop', 'asian_pop', 'hispanic_pop', \n",
    "    'amerindian_pop', 'gini_index', 'housing_units', \n",
    "    'employed_pop']]\n",
    " \n",
    "st_dat = st_dat.dropna(how = 'any')\n",
    "scaler = MinMaxScaler()\n",
    "st_dat_array = scaler.fit_transform(st_dat)\n",
    "st_dat = pd.DataFrame(st_dat_array, columns = st_dat.columns)\n",
    "\n",
    "\n",
    "st_dat['engaged'] = np.where((((st_dat[\"primary_2018\"] == 1)  \n",
    "                                     & (st_dat[\"primary_2020\"] == 1) \n",
    "                                     & (st_dat[\"general_2018\"] == 1)\n",
    "                                    )),1,0) \n",
    "train, test = train_test_split(st_dat, test_size=0.2)\n",
    "\n",
    "features_train   =  train[['general_2016',  \"bachelors_degree_2\", \"poverty\",\n",
    "                            'primary_2016', 'general_2014', \n",
    "                            'age', 'registration_length', \n",
    "                            'registration_change',\n",
    "                            'median_age', 'median_income',\n",
    "                            'white_pop', 'black_pop', 'asian_pop', 'hispanic_pop', \n",
    "                            'amerindian_pop', 'gini_index', 'housing_units', \n",
    "                            'employed_pop']]\n",
    "labels_train     =  pd.DataFrame({\"engaged\":train['engaged'],  \"not_engaged\":1-train['engaged']})\n",
    "\n",
    "\n",
    "features_train_array = np.array(features_train, np.float64)\n",
    "labels_train_array   = np.array(labels_train,   np.float64)\n",
    "\n",
    "\n",
    "features_test   = test[['general_2016',  \"bachelors_degree_2\", \"poverty\",\n",
    "                            'primary_2016', 'general_2014', \n",
    "                            'age', 'registration_length', \n",
    "                            'registration_change',\n",
    "                            'median_age', 'median_income',\n",
    "                            'white_pop', 'black_pop', 'asian_pop', 'hispanic_pop', \n",
    "                            'amerindian_pop', 'gini_index', 'housing_units', \n",
    "                            'employed_pop']]\n",
    "labels_test     =  pd.DataFrame({\"engaged\":test['engaged'],  \"not_engaged\":1-test['engaged']})\n",
    "\n",
    "\n",
    "features_test_array = np.array(features_test, np.float64)\n",
    "labels_test_array   = np.array(labels_test,   np.float64)\n",
    "\n",
    "from tensorflow.keras.regularizers import l1_l2\n",
    "model = tf.keras.Sequential()\n",
    "# Define the first layer\n",
    "model.add(keras.layers.Dense(20, activation='softmax', \n",
    "                               input_shape=(features_train.shape[1],)))\n",
    "model.add(keras.layers.Dropout(0.25))\n",
    "# model.add(keras.layers.Dense(10, activation='softmax'))\n",
    "# model.add(keras.layers.Dense(5, activation='softmax'))\n",
    "model.add(keras.layers.Dense(2, activation='softmax'))\n",
    "    \n",
    "\n",
    "# Finish the model compilation\n",
    "model.compile(optimizer=keras.optimizers.Adam(learning_rate=0.001), \n",
    "              loss='categorical_crossentropy',\n",
    "              metrics=['accuracy'])\n",
    "model.fit(features_train_array, \n",
    "          labels_train_array, epochs=1, \n",
    "          validation_split=0.20)"
   ]
  },
  {
   "cell_type": "markdown",
   "metadata": {},
   "source": [
    "Above, where I constructed the training data, I also set aside 20 percent of the sample. **The model was not trained on this model. These are fresh data, randomly drawn, so that we can compare the outcome to the predicted outcome.** Overall, I reach about 85% acccuracy, which is not great, but far better than chance."
   ]
  },
  {
   "cell_type": "code",
   "execution_count": 27,
   "metadata": {},
   "outputs": [],
   "source": [
    "features_test   =   test[['general_2016',  \"bachelors_degree_2\", \"poverty\",\n",
    "                            'primary_2016', 'general_2014',  'age', 'registration_length', \n",
    "                            'registration_change',\n",
    "                            'median_age', 'median_income',\n",
    "                            'white_pop', 'black_pop', 'asian_pop', 'hispanic_pop', \n",
    "                            'amerindian_pop', 'gini_index', 'housing_units', \n",
    "                            'employed_pop']]\n",
    "labels_test     =  pd.DataFrame({\"engaged\":test['engaged'],  \"not_engaged\":1-test['engaged']})\n",
    "features_test_array = np.array(features_test, np.float64)\n",
    "labels_test_array   = np.array(labels_test,   np.float64)"
   ]
  },
  {
   "cell_type": "code",
   "execution_count": 28,
   "metadata": {},
   "outputs": [
    {
     "name": "stdout",
     "output_type": "stream",
     "text": [
      "   87/22846 [..............................] - ETA: 40s"
     ]
    },
    {
     "name": "stderr",
     "output_type": "stream",
     "text": [
      "2022-09-04 12:00:01.257654: I tensorflow/core/grappler/optimizers/custom_graph_optimizer_registry.cc:113] Plugin optimizer for device_type GPU is enabled.\n"
     ]
    },
    {
     "name": "stdout",
     "output_type": "stream",
     "text": [
      "22846/22846 [==============================] - 35s 2ms/step\n"
     ]
    }
   ],
   "source": [
    "outcome = model.predict(features_test_array) > 0.5\n"
   ]
  },
  {
   "cell_type": "markdown",
   "metadata": {},
   "source": [
    "I've tinkered with the model quite a bit. I can't seem to improve it. It's not a remarkable degree of accuracy, but there's really not all that much individual level data, so I'm not sure."
   ]
  },
  {
   "cell_type": "code",
   "execution_count": 29,
   "metadata": {},
   "outputs": [],
   "source": [
    "full_data = df[['registrant_id',\n",
    "    'general_2020', 'primary_2020', 'general_2018', \n",
    "    'primary_2018', 'general_2016', \"bachelors_degree_2\",\n",
    "    'primary_2016', 'general_2014', \"poverty\",\n",
    "    'age', 'registration_length', \n",
    "    'registration_change',\n",
    "    'median_age', 'median_income',\n",
    "    'white_pop', 'black_pop', 'asian_pop', 'hispanic_pop', \n",
    "    'amerindian_pop', 'gini_index', 'housing_units', \n",
    "    'employed_pop',  'black_district', 'white_district', 'latino']]\n",
    "full_data = full_data.dropna(how = 'any')\n",
    "registrant_id = full_data['registrant_id']\n",
    "full_data_array = scaler.fit_transform(full_data)\n",
    "full_data = pd.DataFrame(full_data_array, columns = full_data.columns)\n",
    "full_data['engaged'] = np.where((((full_data[\"primary_2018\"] == 1)  \n",
    "                                     & (full_data[\"primary_2020\"] == 1) \n",
    "                                     & (full_data[\"general_2018\"] == 1)\n",
    "                                    )),1,0) \n",
    "labels_full     =  pd.DataFrame({\"engaged\": full_data['engaged'],  \"not_engaged\": 1-full_data['engaged']})\n",
    "features_full    =  full_data[['general_2016',  \"bachelors_degree_2\", \"poverty\",\n",
    "                            'primary_2016', 'general_2014', \n",
    "                            'age', 'registration_length', \n",
    "                            'registration_change',\n",
    "                            'median_age', 'median_income',\n",
    "                            'white_pop', 'black_pop', 'asian_pop', 'hispanic_pop', \n",
    "                            'amerindian_pop', 'gini_index', 'housing_units', \n",
    "                            'employed_pop',  'black_district', 'white_district', 'latino']]\n",
    "\n",
    "features_full_array = np.array(features_full, np.float64)\n",
    "labels_full_array   = np.array(labels_full,   np.float64)"
   ]
  },
  {
   "cell_type": "code",
   "execution_count": 30,
   "metadata": {},
   "outputs": [
    {
     "name": "stdout",
     "output_type": "stream",
     "text": [
      "22846/22846 [==============================] - 36s 2ms/step\n",
      "91383/91383 [==============================] - 145s 2ms/step\n"
     ]
    },
    {
     "data": {
      "text/plain": [
       "0.84815085"
      ]
     },
     "execution_count": 30,
     "metadata": {},
     "output_type": "execute_result"
    }
   ],
   "source": [
    "preds1 = model.predict(features_test_array) > 0.5\n",
    "preds2 = model.predict(features_train_array)\n",
    "\n",
    "# Evaluate the model\n",
    "from tensorflow.keras.metrics import Accuracy, Precision, Recall\n",
    "acc = Accuracy()\n",
    "prec = Precision()\n",
    "recall = Recall()\n",
    "acc.update_state(labels_test_array, preds1)\n",
    "\n",
    "acc.result().numpy()\n",
    "# prec.result().numpy()\n",
    "# recall.result().numpy()"
   ]
  },
  {
   "cell_type": "code",
   "execution_count": 46,
   "metadata": {},
   "outputs": [],
   "source": [
    "### Standardize the data, train with variables below ####\n",
    "full_data = df[['registrant_id', 'general_2020', 'primary_2020', 'general_2018', \n",
    "    'primary_2018', 'general_2016', \"bachelors_degree_2\",\n",
    "    'primary_2016', 'general_2014', \"poverty\",\n",
    "    'age', 'registration_length', \n",
    "    'registration_change',\n",
    "    'median_age', 'median_income',\n",
    "    'white_pop', 'black_pop', 'asian_pop', 'hispanic_pop', \n",
    "    'amerindian_pop', 'gini_index', 'housing_units', \n",
    "    'employed_pop']]\n",
    "full_data = full_data.dropna(how = 'any')\n",
    "registrant_id = full_data['registrant_id']\n",
    "full_data_array = scaler.fit_transform(full_data)\n",
    "full_data = pd.DataFrame(full_data_array, columns = full_data.columns)\n",
    "full_data['engaged'] = np.where((((full_data[\"primary_2018\"] == 1)  \n",
    "                                     & (full_data[\"primary_2020\"] == 1) \n",
    "                                     & (full_data[\"general_2018\"] == 1)\n",
    "                                    )),1,0) \n",
    "labels_full     =  pd.DataFrame({\"engaged\": full_data['engaged'],  \"not_engaged\": 1-full_data['engaged']})\n",
    "features_full    =  full_data[['general_2016', \"bachelors_degree_2\",\n",
    "    'primary_2016', 'general_2014', \"poverty\",\n",
    "    'age', 'registration_length', \n",
    "    'registration_change',\n",
    "    'median_age', 'median_income',\n",
    "    'white_pop', 'black_pop', 'asian_pop', 'hispanic_pop', \n",
    "    'amerindian_pop', 'gini_index', 'housing_units', \n",
    "    'employed_pop']]\n",
    "\n",
    "features_full_array = np.array(features_full, np.float64)\n",
    "labels_full_array   = np.array(labels_full,   np.float64)\n"
   ]
  },
  {
   "cell_type": "code",
   "execution_count": null,
   "metadata": {},
   "outputs": [],
   "source": [
    "preds = model.predict(features_full_array)\n",
    "preds = pd.DataFrame(preds)\n",
    "preds.head()\n"
   ]
  },
  {
   "cell_type": "code",
   "execution_count": 66,
   "metadata": {},
   "outputs": [
    {
     "data": {
      "text/plain": [
       "array([1, 1, 0, ..., 0, 0, 1])"
      ]
     },
     "execution_count": 66,
     "metadata": {},
     "output_type": "execute_result"
    }
   ],
   "source": [
    "np.random.binomial(1, preds.iloc[:,0])"
   ]
  },
  {
   "cell_type": "code",
   "execution_count": 68,
   "metadata": {},
   "outputs": [
    {
     "data": {
      "text/html": [
       "<div>\n",
       "<style scoped>\n",
       "    .dataframe tbody tr th:only-of-type {\n",
       "        vertical-align: middle;\n",
       "    }\n",
       "\n",
       "    .dataframe tbody tr th {\n",
       "        vertical-align: top;\n",
       "    }\n",
       "\n",
       "    .dataframe thead th {\n",
       "        text-align: right;\n",
       "    }\n",
       "</style>\n",
       "<table border=\"1\" class=\"dataframe\">\n",
       "  <thead>\n",
       "    <tr style=\"text-align: right;\">\n",
       "      <th></th>\n",
       "      <th>engaged_pr</th>\n",
       "      <th>not_engaged_pr</th>\n",
       "      <th>point</th>\n",
       "      <th>engaged_true</th>\n",
       "      <th>registrant_id</th>\n",
       "    </tr>\n",
       "  </thead>\n",
       "  <tbody>\n",
       "    <tr>\n",
       "      <th>0</th>\n",
       "      <td>0.552050</td>\n",
       "      <td>0.447950</td>\n",
       "      <td>1</td>\n",
       "      <td>1</td>\n",
       "      <td>26524902</td>\n",
       "    </tr>\n",
       "    <tr>\n",
       "      <th>1</th>\n",
       "      <td>0.405721</td>\n",
       "      <td>0.594279</td>\n",
       "      <td>1</td>\n",
       "      <td>1</td>\n",
       "      <td>26628656</td>\n",
       "    </tr>\n",
       "    <tr>\n",
       "      <th>2</th>\n",
       "      <td>0.031570</td>\n",
       "      <td>0.968430</td>\n",
       "      <td>0</td>\n",
       "      <td>0</td>\n",
       "      <td>26706618</td>\n",
       "    </tr>\n",
       "    <tr>\n",
       "      <th>3</th>\n",
       "      <td>0.466832</td>\n",
       "      <td>0.533168</td>\n",
       "      <td>1</td>\n",
       "      <td>0</td>\n",
       "      <td>26679668</td>\n",
       "    </tr>\n",
       "    <tr>\n",
       "      <th>4</th>\n",
       "      <td>0.105300</td>\n",
       "      <td>0.894700</td>\n",
       "      <td>1</td>\n",
       "      <td>0</td>\n",
       "      <td>26660520</td>\n",
       "    </tr>\n",
       "  </tbody>\n",
       "</table>\n",
       "</div>"
      ],
      "text/plain": [
       "   engaged_pr  not_engaged_pr  point  engaged_true registrant_id\n",
       "0    0.552050        0.447950      1             1      26524902\n",
       "1    0.405721        0.594279      1             1      26628656\n",
       "2    0.031570        0.968430      0             0      26706618\n",
       "3    0.466832        0.533168      1             0      26679668\n",
       "4    0.105300        0.894700      1             0      26660520"
      ]
     },
     "execution_count": 68,
     "metadata": {},
     "output_type": "execute_result"
    }
   ],
   "source": [
    "upload_data = pd.DataFrame( {\"engaged_pr\" : preds.iloc[:,0], \n",
    "                    \"not_engaged_pr\" : preds.iloc[:,1],  \n",
    "                    \"point\" : np.random.binomial(1, preds.iloc[:,0]),\n",
    "                    \"engaged_true\" :  full_data[\"engaged\"],\n",
    "                    \"registrant_id\" : registrant_id.tolist() } )\n",
    "\n",
    "upload_data.head()"
   ]
  },
  {
   "cell_type": "code",
   "execution_count": 69,
   "metadata": {},
   "outputs": [
    {
     "name": "stderr",
     "output_type": "stream",
     "text": [
      "100%|██████████| 1/1 [00:00<00:00, 8004.40it/s]\n"
     ]
    }
   ],
   "source": [
    "from google.cloud import bigquery\n",
    "from sklearn.preprocessing import MinMaxScaler\n",
    "import pandas_gbq\n",
    "bqclient = bigquery.Client()\n",
    "project_id = \"az-voter-file\"\n",
    "pandas_gbq.to_gbq(upload_data, \"az-voter-file.az_file.nn02\", project_id=project_id, if_exists=\"replace\")"
   ]
  },
  {
   "cell_type": "code",
   "execution_count": 74,
   "metadata": {},
   "outputs": [],
   "source": [
    "full_data.to_csv( \"not_uploaded.csv\")"
   ]
  }
 ],
 "metadata": {
  "kernelspec": {
   "display_name": "Python 3.10.5 64-bit",
   "language": "python",
   "name": "python3"
  },
  "language_info": {
   "codemirror_mode": {
    "name": "ipython",
    "version": 3
   },
   "file_extension": ".py",
   "mimetype": "text/x-python",
   "name": "python",
   "nbconvert_exporter": "python",
   "pygments_lexer": "ipython3",
   "version": "3.10.5"
  },
  "orig_nbformat": 4,
  "vscode": {
   "interpreter": {
    "hash": "aee8b7b246df8f9039afb4144a1f6fd8d2ca17a180786b69acc140d282b71a49"
   }
  }
 },
 "nbformat": 4,
 "nbformat_minor": 2
}
